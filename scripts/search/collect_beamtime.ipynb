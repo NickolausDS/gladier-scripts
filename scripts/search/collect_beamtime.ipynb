{
 "cells": [
  {
   "cell_type": "code",
   "execution_count": 1,
   "id": "d8b19f60-450f-4960-8c6a-3f0d858b2106",
   "metadata": {},
   "outputs": [],
   "source": [
    "from globus_sdk import SearchClient\n",
    "from fair_research_login import NativeClient\n",
    "from pprint import pprint\n",
    "\n",
    "# Search indices\n",
    "indices = [{\n",
    "    'name': 'ssx',\n",
    "    'uuid': '5e63bb08-5b39-4a02-86f3-44cec03e8bc0',\n",
    "    },\n",
    "    {\n",
    "    'name': 'xpcs',\n",
    "    'uuid': '6871e83e-866b-41bc-8430-e3cf83b43bdc',\n",
    "    }\n",
    "]"
   ]
  },
  {
   "cell_type": "code",
   "execution_count": 2,
   "id": "afa7fb30-9ddb-4984-ac85-d40c090fa402",
   "metadata": {},
   "outputs": [],
   "source": [
    "# Auth\n",
    "client = NativeClient(client_id='7414f0b4-7d05-4bb6-bb00-076fa3f17cf5')\n",
    "client.login(requested_scopes='urn:globus:auth:scope:search.api.globus.org:search')\n",
    "search_authorizer = client.get_authorizers()['search.api.globus.org']\n",
    "sc = SearchClient(authorizer=search_authorizer)\n"
   ]
  },
  {
   "cell_type": "code",
   "execution_count": 3,
   "id": "b0a5964b-247b-49f5-8138-5dec9a0bd37d",
   "metadata": {},
   "outputs": [],
   "source": [
    "def date_query(index):\n",
    "\n",
    "    query = {\n",
    "        'facets': [{\n",
    "            \"name\": \"Dates\",\n",
    "            \"field_name\": \"dc.dates.date\",\n",
    "            \"type\": \"date_histogram\",\n",
    "            \"date_interval\": \"year\",\n",
    "        }],\n",
    "        'q': '*',\n",
    "    }\n",
    "    return sc.post_search(index, query)\n",
    "\n",
    "    \n",
    "    \n",
    "def size_query_by_dates(index, date_ranges):\n",
    "    sums = []\n",
    "    for low_date, high_date in date_ranges:\n",
    "        query = {\n",
    "            \"facets\": [{\n",
    "                \"name\": \"Sizes\",\n",
    "                \"field_name\": \"files.length\",\n",
    "                \"type\": \"sum\",\n",
    "            }],\n",
    "            \"filters\": [{\n",
    "            \"type\": \"range\",\n",
    "            \"field_name\": \"dc.dates.date\",\n",
    "            \"values\": [\n",
    "                {\n",
    "                \"from\": low_date,\n",
    "                \"to\": high_date\n",
    "                }\n",
    "            ]\n",
    "            }],\n",
    "            'q': '*'\n",
    "        }\n",
    "        sum = sc.post_search(index, query).data['facet_results'][0]['value']\n",
    "        sums.append(int(sum))\n",
    "    return sums\n",
    "    "
   ]
  },
  {
   "cell_type": "raw",
   "id": "3a50c406-c364-4f53-af36-38fcde91e1fc",
   "metadata": {},
   "source": []
  },
  {
   "cell_type": "code",
   "execution_count": 7,
   "id": "1c6478c6-9e8c-443c-b37f-b6bda0c267f0",
   "metadata": {},
   "outputs": [
    {
     "name": "stdout",
     "output_type": "stream",
     "text": [
      "['year', 'size', 'index']\n",
      "['2020', '706373071', 'ssx']\n",
      "['2021', '890594124', 'ssx']\n",
      "['2022', '1518853139', 'ssx']\n",
      "['year', 'size', 'index']\n",
      "['2019', '16985141', 'xpcs']\n",
      "['2020', '41304558036', 'xpcs']\n",
      "['2021', '2010164218451', 'xpcs']\n",
      "['2022', '38245236644285', 'xpcs']\n",
      "['2023', '695972040387', 'xpcs']\n"
     ]
    }
   ],
   "source": [
    "for index in indices:\n",
    "    facets = date_query(index['uuid']).data['facet_results']\n",
    "    years = [k['value'] for k in facets[0]['buckets']]\n",
    "\n",
    "    ranges = [(f'{year}-01-01', f'{year}-12-31') for year in years]\n",
    "    sums = size_query_by_dates(index['uuid'], ranges)\n",
    "    \n",
    "    rows = [[date, str(size), index['name']] for date, size in zip(years, sums)]\n",
    "    rows.insert(0, ['year', 'size', 'index'])\n",
    "    \n",
    "    with open(f'{index[\"name\"]}_data.csv', 'w+') as f:\n",
    "        for row in rows:\n",
    "            print(row)\n",
    "            f.write(','.join(row) + '\\n')"
   ]
  },
  {
   "cell_type": "code",
   "execution_count": null,
   "id": "b5956419-17fe-4473-9b57-1af336a7b1d5",
   "metadata": {},
   "outputs": [],
   "source": []
  }
 ],
 "metadata": {
  "kernelspec": {
   "display_name": "Python 3 (ipykernel)",
   "language": "python",
   "name": "python3"
  },
  "language_info": {
   "codemirror_mode": {
    "name": "ipython",
    "version": 3
   },
   "file_extension": ".py",
   "mimetype": "text/x-python",
   "name": "python",
   "nbconvert_exporter": "python",
   "pygments_lexer": "ipython3",
   "version": "3.10.9"
  }
 },
 "nbformat": 4,
 "nbformat_minor": 5
}
